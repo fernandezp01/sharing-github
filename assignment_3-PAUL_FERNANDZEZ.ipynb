{
 "cells": [
  {
   "cell_type": "code",
   "execution_count": 123,
   "metadata": {},
   "outputs": [],
   "source": [
    "#########################################################################################################################################\n",
    "#Assignment 3: Machine learning with regression methods\n",
    "#Completed by Paul Fernandez\n",
    "#########################################################################################################################################\n",
    "#All Comments are in final cell to improve organization\n",
    "\n",
    "import pandas as pd\n",
    "import numpy as np\n",
    "import plotnine as p9\n",
    "\n",
    "from sklearn.compose import ColumnTransformer\n",
    "from sklearn.linear_model import LinearRegression\n",
    "\n",
    "df = pd.read_csv('data/housing_data.csv')\n",
    "\n",
    "def get_x_matrix(raw_data):\n",
    "    \"\"\"\n",
    "    Takes a raw DataFrame of a housing prices dataset and generates the x\n",
    "    DataFrame (matrix) required for modeling.\n",
    "    \"\"\"\n",
    "    xmat = raw_data.drop(columns=['SalePrice', 'Street', 'Lot Frontage', 'Lot Area', 'Year Built', 'Year Remod/Add', 'Mo Sold', 'Yr Sold', 'Bsmt Full Bath', 'Bsmt Half Bath', 'Full Bath', 'Half Bath', 'Bedroom AbvGr', 'Kitchen AbvGr', 'TotRms AbvGrd', 'Fireplaces', 'Garage Yr Blt', 'Garage Cars', 'Misc Val', 'Central Air', 'Overall Cond', 'Overall Qual']) #Drops all columns except those dealing with square footage\n",
    "    return xmat"
   ]
  },
  {
   "cell_type": "code",
   "execution_count": 124,
   "metadata": {},
   "outputs": [
    {
     "name": "stdout",
     "output_type": "stream",
     "text": [
      "R^2: 0.8251025537866813 MSE: 1281809013.370971\n"
     ]
    }
   ],
   "source": [
    "x = get_x_matrix(df)\n",
    "y = df.SalePrice\n",
    "\n",
    "model = LinearRegression().fit(x, y) \n",
    "\n",
    "def mse(model, x, y):                \n",
    "    yhat = model.predict(x)\n",
    "    error = np.mean((y - yhat)**2)\n",
    "    return error\n",
    "\n",
    "print('R^2:', model.score(x, y), 'MSE:', mse(model, x, y)) "
   ]
  },
  {
   "cell_type": "code",
   "execution_count": 126,
   "metadata": {},
   "outputs": [
    {
     "name": "stdout",
     "output_type": "stream",
     "text": [
      "R^2: 0.8251025537866813 MSE: 1281809013.370971\n"
     ]
    }
   ],
   "source": [
    "import pandas as pd\n",
    "import numpy as np\n",
    "import plotnine as p9\n",
    "\n",
    "from sklearn.compose import ColumnTransformer\n",
    "from sklearn.linear_model import LinearRegression\n",
    "\n",
    "df = pd.read_csv('housing_data.csv')\n",
    "\n",
    "def get_x_matrix(raw_data):  #Defines method to produce raw data in matrix\n",
    "    \"\"\"\n",
    "    Takes a raw DataFrame of a housing prices dataset and generates the x\n",
    "    DataFrame (matrix) required for modeling.\n",
    "    \"\"\"\n",
    "    xmat = raw_data.drop(columns=['SalePrice', 'Street', 'Lot Frontage', 'Lot Area', 'Year Built', 'Year Remod/Add', 'Mo Sold', 'Yr Sold', 'Bsmt Full Bath', 'Bsmt Half Bath', 'Full Bath', 'Half Bath', 'Bedroom AbvGr', 'Kitchen AbvGr', 'TotRms AbvGrd', 'Fireplaces', 'Garage Yr Blt', 'Garage Cars', 'Misc Val', 'Central Air', 'Overall Cond', 'Overall Qual']) #Drops all columns except those dealing with square footage\n",
    "    return xmat\n",
    "\n",
    "#All Variables except those pertaining to Square footage are removed as space seems to be the most dominant aspect to price.\n",
    "#The linear regression model proved to have the highest r^2 value in testing resulting in it's use for the model\n",
    "\n",
    "x = get_x_matrix(df)\n",
    "y = df.SalePrice\n",
    "\n",
    "model = LinearRegression().fit(x, y) #Uses linear regression as model for dataset\n",
    "\n",
    "def mse(model, x, y):                #Given method for finding Mean Squared Error\n",
    "    yhat = model.predict(x)\n",
    "    error = np.mean((y - yhat)**2)\n",
    "    return error\n",
    "\n",
    "print('R^2:', model.score(x, y), 'MSE:', mse(model, x, y))  #Prints an evaluation of the model"
   ]
  },
  {
   "cell_type": "code",
   "execution_count": null,
   "metadata": {},
   "outputs": [],
   "source": []
  }
 ],
 "metadata": {
  "kernelspec": {
   "display_name": "Python 3.8 (full)",
   "language": "python",
   "name": "python3-3.8-ufrc"
  },
  "language_info": {
   "codemirror_mode": {
    "name": "ipython",
    "version": 3
   },
   "file_extension": ".py",
   "mimetype": "text/x-python",
   "name": "python",
   "nbconvert_exporter": "python",
   "pygments_lexer": "ipython3",
   "version": "3.8.5"
  }
 },
 "nbformat": 4,
 "nbformat_minor": 4
}
