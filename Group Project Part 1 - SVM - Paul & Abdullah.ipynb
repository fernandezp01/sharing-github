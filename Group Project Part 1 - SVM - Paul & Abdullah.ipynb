{
 "cells": [
  {
   "cell_type": "code",
   "execution_count": 9,
   "metadata": {},
   "outputs": [
    {
     "name": "stdout",
     "output_type": "stream",
     "text": [
      "R^2: 0.868421052631579\n"
     ]
    }
   ],
   "source": [
    "#########################################################################################################################################\n",
    "#Group Project Part I: Support Vector Machines\n",
    "#Completed by Paul Fernandez\n",
    "#########################################################################################################################################\n",
    "import numpy as np\n",
    "import pandas as pd\n",
    "import plotnine as pn\n",
    "\n",
    "from sklearn.svm import SVC # \"Support vector classifier\"\n",
    "from sklearn import svm\n",
    "from sklearn.metrics import confusion_matrix, ConfusionMatrixDisplay, r2_score,mean_squared_error, classification_report, roc_auc_score\n",
    "from sklearn import model_selection\n",
    "from sklearn.model_selection import train_test_split, cross_val_score, KFold\n",
    "\n",
    "df = pd.read_csv('heart.csv')                                                         #Goes over data file                                  \n",
    "                                                                                     \n",
    "data = df.drop(columns = ['target'])                                                 \n",
    "\n",
    "df.target = (-1) * df.target                                                          #Manipulates target variable so that 0 is no heart disease and 1 was heart disease\n",
    "df.target = 1 + df.target\n",
    "\n",
    "x = data.values\n",
    "y = df.target.values\n",
    "\n",
    "x_train, x_test, y_train, y_test = train_test_split(x, y, test_size = 0.25, random_state = 42)  #Splits data into portions for training the model and testing it\n",
    "\n",
    "kf = KFold(n_splits=5, shuffle=True)\n",
    "regressor = svm.SVC(kernel='linear', C=1).fit(x_train, y_train.ravel())               #Fits the training data to process support vectors\n",
    "y_hat = regressor.predict(x_test)                                                     #Predicts support vector based off test data\n",
    "\n",
    "print('R^2:',regressor.score(x_test, y_test))"
   ]
  },
  {
   "cell_type": "code",
   "execution_count": 10,
   "metadata": {},
   "outputs": [
    {
     "name": "stdout",
     "output_type": "stream",
     "text": [
      "c-v R^2: 0.8284153005464481 c-v MSE: 0.17169398907103825\n",
      "AUC of ROC: 0.9178304787000439\n"
     ]
    }
   ],
   "source": [
    "def mse(regressor, x_test, y):                                                         #Creates a function to solve for the mean squared error (MSE)\n",
    "    y_hat = regressor.predict(x_test)\n",
    "    error = np.mean((y - y_hat)**2)\n",
    "    return error\n",
    "\n",
    "res = cross_val_score(regressor, x, y.ravel(), cv = kf, scoring = mse)                 #Uses the MSE function to evaluate the cross validated MSE\n",
    "cv_mse = res.mean()\n",
    "res = cross_val_score(regressor, x, y.ravel(), cv = kf)                                #Finds the cross validated R^2 value\n",
    "cv_r2 = res.mean()\n",
    "\n",
    "roc = roc_auc_score(y, regressor.decision_function(x), multi_class=\"ovr\",average=None) #Finds the area under the receiver operating characteristic curve\n",
    "\n",
    "print('c-v R^2:', cv_r2, 'c-v MSE:', cv_mse)\n",
    "print('AUC of ROC:', roc)"
   ]
  },
  {
   "cell_type": "code",
   "execution_count": 6,
   "metadata": {},
   "outputs": [
    {
     "name": "stdout",
     "output_type": "stream",
     "text": [
      "[1 0 0 1 0 0 0 1 1 0 0 1 0 1 0 0 0 1 1 1 0 1 1 0 0 0 0 0 1 0 1 1 1 1 0 1 0\n",
      " 0 0 0 1 0 0 0 0 1 0 0 1 1 1 1 0 0 1 1 1 0 1 1 1 0 1 1 0 1 0 0 0 0 0 0 0 0\n",
      " 1 0]\n"
     ]
    }
   ],
   "source": [
    "print(y_hat)                                                                            #Checks to see if the predictions were categorical"
   ]
  },
  {
   "cell_type": "code",
   "execution_count": 7,
   "metadata": {},
   "outputs": [
    {
     "data": {
      "text/html": [
       "<div>\n",
       "<style scoped>\n",
       "    .dataframe tbody tr th:only-of-type {\n",
       "        vertical-align: middle;\n",
       "    }\n",
       "\n",
       "    .dataframe tbody tr th {\n",
       "        vertical-align: top;\n",
       "    }\n",
       "\n",
       "    .dataframe thead th {\n",
       "        text-align: right;\n",
       "    }\n",
       "</style>\n",
       "<table border=\"1\" class=\"dataframe\">\n",
       "  <thead>\n",
       "    <tr style=\"text-align: right;\">\n",
       "      <th></th>\n",
       "      <th>age</th>\n",
       "      <th>sex</th>\n",
       "      <th>cp</th>\n",
       "      <th>trestbps</th>\n",
       "      <th>chol</th>\n",
       "      <th>fbs</th>\n",
       "      <th>restecg</th>\n",
       "      <th>thalach</th>\n",
       "      <th>exang</th>\n",
       "      <th>oldpeak</th>\n",
       "      <th>slope</th>\n",
       "      <th>ca</th>\n",
       "      <th>thal</th>\n",
       "    </tr>\n",
       "  </thead>\n",
       "  <tbody>\n",
       "    <tr>\n",
       "      <th>Weight Value</th>\n",
       "      <td>-0.0101</td>\n",
       "      <td>0.955351</td>\n",
       "      <td>-0.644899</td>\n",
       "      <td>0.014548</td>\n",
       "      <td>0.000829</td>\n",
       "      <td>-0.398026</td>\n",
       "      <td>-0.409789</td>\n",
       "      <td>-0.013536</td>\n",
       "      <td>0.647066</td>\n",
       "      <td>0.401035</td>\n",
       "      <td>-0.569464</td>\n",
       "      <td>0.642354</td>\n",
       "      <td>0.936089</td>\n",
       "    </tr>\n",
       "  </tbody>\n",
       "</table>\n",
       "</div>"
      ],
      "text/plain": [
       "                 age       sex        cp  trestbps      chol       fbs  \\\n",
       "Weight Value -0.0101  0.955351 -0.644899  0.014548  0.000829 -0.398026   \n",
       "\n",
       "               restecg   thalach     exang   oldpeak     slope        ca  \\\n",
       "Weight Value -0.409789 -0.013536  0.647066  0.401035 -0.569464  0.642354   \n",
       "\n",
       "                  thal  \n",
       "Weight Value  0.936089  "
      ]
     },
     "execution_count": 7,
     "metadata": {},
     "output_type": "execute_result"
    }
   ],
   "source": [
    "weight = regressor.coef_                                                                #Lists weight value for each variable\n",
    "w = pd.DataFrame(weight, columns = ['age','sex','cp','trestbps','chol','fbs','restecg','thalach','exang','oldpeak','slope','ca','thal'], index = ['Weight Value'])\n",
    "w"
   ]
  },
  {
   "cell_type": "code",
   "execution_count": 8,
   "metadata": {},
   "outputs": [
    {
     "data": {
      "image/png": "[encoded data removed]",
      "text/plain": [
       "<Figure size 432x288 with 2 Axes>"
      ]
     },
     "metadata": {
      "needs_background": "light"
     },
     "output_type": "display_data"
    }
   ],
   "source": [
    "cm = confusion_matrix(y_test, y_hat)\n",
    "display_labels = 1\n",
    "cm_display2 = ConfusionMatrixDisplay(cm).plot(xticks_rotation='vertical')"
   ]
  },
  {
   "cell_type": "code",
   "execution_count": null,
   "metadata": {},
   "outputs": [],
   "source": []
  }
 ],
 "metadata": {
  "kernelspec": {
   "display_name": "Python 3.8 (full)",
   "language": "python",
   "name": "python3-3.8-ufrc"
  },
  "language_info": {
   "codemirror_mode": {
    "name": "ipython",
    "version": 3
   },
   "file_extension": ".py",
   "mimetype": "text/x-python",
   "name": "python",
   "nbconvert_exporter": "python",
   "pygments_lexer": "ipython3",
   "version": "3.8.5"
  }
 },
 "nbformat": 4,
 "nbformat_minor": 4
}
