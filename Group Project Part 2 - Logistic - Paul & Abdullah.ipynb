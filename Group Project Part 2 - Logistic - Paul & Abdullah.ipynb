{
 "cells": [
  {
   "cell_type": "code",
   "execution_count": 1,
   "metadata": {},
   "outputs": [],
   "source": [
    "#########################################################################################################################################\n",
    "#Group Project Part II: Logistic Regression with Lasso & Ridge Regression\n",
    "#Completed by Abdullah Afridi\n",
    "#########################################################################################################################################"
   ]
  },
  {
   "cell_type": "code",
   "execution_count": 5,
   "metadata": {},
   "outputs": [],
   "source": [
    "import numpy as np\n",
    "import pandas as pd\n",
    "from sklearn.linear_model import LogisticRegression, LogisticRegressionCV, Ridge, RidgeCV, Lasso, LassoCV\n",
    "from sklearn.model_selection import cross_val_score, KFold, train_test_split\n",
    "import plotnine as pn\n",
    "from sklearn.metrics import r2_score\n",
    "from pandas.plotting import scatter_matrix\n",
    "import seaborn as sn\n",
    "import matplotlib.pyplot as plt\n",
    "from matplotlib.pyplot import figure \n",
    "from sklearn.metrics import confusion_matrix, ConfusionMatrixDisplay\n",
    "from sklearn.metrics import classification_report\n",
    "from sklearn.metrics import roc_auc_score\n",
    "try:\n",
    "    import warnings\n",
    "    warnings.filterwarnings('ignore')\n",
    "except:\n",
    "    pass\n"
   ]
  },
  {
   "cell_type": "code",
   "execution_count": 6,
   "metadata": {},
   "outputs": [],
   "source": [
    "df = pd.read_csv('heart.csv')\n",
    "df[['target']] = ((-1)*df.target)+1\n",
    "x = df.drop(columns=['target']).to_numpy(np.float32) #input array\n",
    "#df['new'] = pd.Series([0 for x in range(len(df.index))], index=df.index) #mildly problematic\n",
    "#y = df[['target']].to_numpy(np.float32) #output variable array\n",
    "y = df.target\n",
    "#y = df.Target #Why doesn't df[['SalePrice']] work?\n",
    "def mse(model,x,y):\n",
    "    y_hat = model.predict(x)\n",
    "    err = np.mean((y-y_hat)**2)\n",
    "    return err"
   ]
  },
  {
   "cell_type": "code",
   "execution_count": 7,
   "metadata": {},
   "outputs": [
    {
     "data": {
      "text/html": [
       "<style  type=\"text/css\" >\n",
       "#T_9b212_row0_col0,#T_9b212_row1_col1,#T_9b212_row2_col2,#T_9b212_row3_col3,#T_9b212_row4_col4,#T_9b212_row5_col5,#T_9b212_row6_col6,#T_9b212_row7_col7,#T_9b212_row8_col8,#T_9b212_row9_col9,#T_9b212_row10_col10,#T_9b212_row11_col11,#T_9b212_row12_col12,#T_9b212_row13_col13{\n",
       "            background-color:  #b40426;\n",
       "            color:  #f1f1f1;\n",
       "        }#T_9b212_row0_col1,#T_9b212_row9_col5{\n",
       "            background-color:  #5470de;\n",
       "            color:  #000000;\n",
       "        }#T_9b212_row0_col2{\n",
       "            background-color:  #8fb1fe;\n",
       "            color:  #000000;\n",
       "        }#T_9b212_row0_col3,#T_9b212_row9_col11{\n",
       "            background-color:  #b2ccfb;\n",
       "            color:  #000000;\n",
       "        }#T_9b212_row0_col4,#T_9b212_row12_col1{\n",
       "            background-color:  #adc9fd;\n",
       "            color:  #000000;\n",
       "        }#T_9b212_row0_col5,#T_9b212_row12_col2{\n",
       "            background-color:  #779af7;\n",
       "            color:  #000000;\n",
       "        }#T_9b212_row0_col6,#T_9b212_row8_col2,#T_9b212_row8_col7{\n",
       "            background-color:  #4358cb;\n",
       "            color:  #f1f1f1;\n",
       "        }#T_9b212_row0_col7{\n",
       "            background-color:  #3f53c6;\n",
       "            color:  #f1f1f1;\n",
       "        }#T_9b212_row0_col8,#T_9b212_row8_col0{\n",
       "            background-color:  #b1cbfc;\n",
       "            color:  #000000;\n",
       "        }#T_9b212_row0_col9,#T_9b212_row1_col13,#T_9b212_row12_col9,#T_9b212_row13_col11{\n",
       "            background-color:  #dcdddd;\n",
       "            color:  #000000;\n",
       "        }#T_9b212_row0_col10,#T_9b212_row3_col11{\n",
       "            background-color:  #90b2fe;\n",
       "            color:  #000000;\n",
       "        }#T_9b212_row0_col11,#T_9b212_row3_col13{\n",
       "            background-color:  #c1d4f4;\n",
       "            color:  #000000;\n",
       "        }#T_9b212_row0_col12,#T_9b212_row9_col2,#T_9b212_row11_col3{\n",
       "            background-color:  #7a9df8;\n",
       "            color:  #000000;\n",
       "        }#T_9b212_row0_col13{\n",
       "            background-color:  #d2dbe8;\n",
       "            color:  #000000;\n",
       "        }#T_9b212_row1_col0,#T_9b212_row10_col6{\n",
       "            background-color:  #80a3fa;\n",
       "            color:  #000000;\n",
       "        }#T_9b212_row1_col2,#T_9b212_row1_col7,#T_9b212_row3_col4,#T_9b212_row5_col3{\n",
       "            background-color:  #93b5fe;\n",
       "            color:  #000000;\n",
       "        }#T_9b212_row1_col3,#T_9b212_row5_col6,#T_9b212_row7_col12{\n",
       "            background-color:  #4b64d5;\n",
       "            color:  #f1f1f1;\n",
       "        }#T_9b212_row1_col4,#T_9b212_row2_col8,#T_9b212_row2_col12,#T_9b212_row2_col13,#T_9b212_row4_col1,#T_9b212_row4_col6,#T_9b212_row6_col5,#T_9b212_row7_col0,#T_9b212_row7_col11,#T_9b212_row9_col10,#T_9b212_row10_col3,#T_9b212_row10_col9,#T_9b212_row13_col2,#T_9b212_row13_col7{\n",
       "            background-color:  #3b4cc0;\n",
       "            color:  #f1f1f1;\n",
       "        }#T_9b212_row1_col5,#T_9b212_row3_col1,#T_9b212_row12_col6{\n",
       "            background-color:  #5f7fe8;\n",
       "            color:  #000000;\n",
       "        }#T_9b212_row1_col6,#T_9b212_row9_col6{\n",
       "            background-color:  #536edd;\n",
       "            color:  #000000;\n",
       "        }#T_9b212_row1_col8,#T_9b212_row10_col2{\n",
       "            background-color:  #bbd1f8;\n",
       "            color:  #000000;\n",
       "        }#T_9b212_row1_col9{\n",
       "            background-color:  #c9d7f0;\n",
       "            color:  #000000;\n",
       "        }#T_9b212_row1_col10{\n",
       "            background-color:  #aec9fc;\n",
       "            color:  #000000;\n",
       "        }#T_9b212_row1_col11,#T_9b212_row2_col9,#T_9b212_row8_col11,#T_9b212_row11_col12{\n",
       "            background-color:  #94b6ff;\n",
       "            color:  #000000;\n",
       "        }#T_9b212_row1_col12,#T_9b212_row8_col12,#T_9b212_row9_col12{\n",
       "            background-color:  #a5c3fe;\n",
       "            color:  #000000;\n",
       "        }#T_9b212_row2_col0,#T_9b212_row13_col3,#T_9b212_row13_col4{\n",
       "            background-color:  #88abfd;\n",
       "            color:  #000000;\n",
       "        }#T_9b212_row2_col1{\n",
       "            background-color:  #6180e9;\n",
       "            color:  #000000;\n",
       "        }#T_9b212_row2_col3{\n",
       "            background-color:  #6a8bef;\n",
       "            color:  #000000;\n",
       "        }#T_9b212_row2_col4,#T_9b212_row8_col5,#T_9b212_row10_col8{\n",
       "            background-color:  #5977e3;\n",
       "            color:  #000000;\n",
       "        }#T_9b212_row2_col5,#T_9b212_row10_col0{\n",
       "            background-color:  #6f92f3;\n",
       "            color:  #000000;\n",
       "        }#T_9b212_row2_col6,#T_9b212_row7_col6,#T_9b212_row8_col3{\n",
       "            background-color:  #7093f3;\n",
       "            color:  #000000;\n",
       "        }#T_9b212_row2_col7,#T_9b212_row11_col9{\n",
       "            background-color:  #dedcdb;\n",
       "            color:  #000000;\n",
       "        }#T_9b212_row2_col10{\n",
       "            background-color:  #cdd9ec;\n",
       "            color:  #000000;\n",
       "        }#T_9b212_row2_col11{\n",
       "            background-color:  #4257c9;\n",
       "            color:  #f1f1f1;\n",
       "        }#T_9b212_row3_col0{\n",
       "            background-color:  #d9dce1;\n",
       "            color:  #000000;\n",
       "        }#T_9b212_row3_col2,#T_9b212_row6_col2,#T_9b212_row12_col0{\n",
       "            background-color:  #aac7fd;\n",
       "            color:  #000000;\n",
       "        }#T_9b212_row3_col5{\n",
       "            background-color:  #89acfd;\n",
       "            color:  #000000;\n",
       "        }#T_9b212_row3_col6{\n",
       "            background-color:  #445acc;\n",
       "            color:  #f1f1f1;\n",
       "        }#T_9b212_row3_col7,#T_9b212_row11_col1{\n",
       "            background-color:  #92b4fe;\n",
       "            color:  #000000;\n",
       "        }#T_9b212_row3_col8,#T_9b212_row4_col8,#T_9b212_row5_col10,#T_9b212_row6_col9{\n",
       "            background-color:  #a9c6fd;\n",
       "            color:  #000000;\n",
       "        }#T_9b212_row3_col9,#T_9b212_row9_col8{\n",
       "            background-color:  #dadce0;\n",
       "            color:  #000000;\n",
       "        }#T_9b212_row3_col10,#T_9b212_row4_col7,#T_9b212_row5_col7,#T_9b212_row5_col11{\n",
       "            background-color:  #9bbcff;\n",
       "            color:  #000000;\n",
       "        }#T_9b212_row3_col12{\n",
       "            background-color:  #799cf8;\n",
       "            color:  #000000;\n",
       "        }#T_9b212_row4_col0{\n",
       "            background-color:  #ccd9ed;\n",
       "            color:  #000000;\n",
       "        }#T_9b212_row4_col2,#T_9b212_row12_col4{\n",
       "            background-color:  #8caffe;\n",
       "            color:  #000000;\n",
       "        }#T_9b212_row4_col3{\n",
       "            background-color:  #81a4fb;\n",
       "            color:  #000000;\n",
       "        }#T_9b212_row4_col5{\n",
       "            background-color:  #5673e0;\n",
       "            color:  #000000;\n",
       "        }#T_9b212_row4_col9,#T_9b212_row13_col1{\n",
       "            background-color:  #c0d4f5;\n",
       "            color:  #000000;\n",
       "        }#T_9b212_row4_col10,#T_9b212_row11_col8{\n",
       "            background-color:  #b5cdfa;\n",
       "            color:  #000000;\n",
       "        }#T_9b212_row4_col11,#T_9b212_row6_col8{\n",
       "            background-color:  #86a9fc;\n",
       "            color:  #000000;\n",
       "        }#T_9b212_row4_col12,#T_9b212_row11_col4{\n",
       "            background-color:  #84a7fc;\n",
       "            color:  #000000;\n",
       "        }#T_9b212_row4_col13{\n",
       "            background-color:  #b3cdfb;\n",
       "            color:  #000000;\n",
       "        }#T_9b212_row5_col0{\n",
       "            background-color:  #b7cff9;\n",
       "            color:  #000000;\n",
       "        }#T_9b212_row5_col1,#T_9b212_row6_col0,#T_9b212_row8_col10{\n",
       "            background-color:  #7b9ff9;\n",
       "            color:  #000000;\n",
       "        }#T_9b212_row5_col2,#T_9b212_row5_col9{\n",
       "            background-color:  #b6cefa;\n",
       "            color:  #000000;\n",
       "        }#T_9b212_row5_col4,#T_9b212_row11_col2{\n",
       "            background-color:  #7396f5;\n",
       "            color:  #000000;\n",
       "        }#T_9b212_row5_col8,#T_9b212_row12_col11{\n",
       "            background-color:  #9fbfff;\n",
       "            color:  #000000;\n",
       "        }#T_9b212_row5_col12,#T_9b212_row10_col11{\n",
       "            background-color:  #5d7ce6;\n",
       "            color:  #000000;\n",
       "        }#T_9b212_row5_col13{\n",
       "            background-color:  #a6c4fe;\n",
       "            color:  #000000;\n",
       "        }#T_9b212_row6_col1,#T_9b212_row6_col11{\n",
       "            background-color:  #5e7de7;\n",
       "            color:  #000000;\n",
       "        }#T_9b212_row6_col3{\n",
       "            background-color:  #3c4ec2;\n",
       "            color:  #f1f1f1;\n",
       "        }#T_9b212_row6_col4{\n",
       "            background-color:  #465ecf;\n",
       "            color:  #f1f1f1;\n",
       "        }#T_9b212_row6_col7{\n",
       "            background-color:  #a7c5fe;\n",
       "            color:  #000000;\n",
       "        }#T_9b212_row6_col10{\n",
       "            background-color:  #c7d7f0;\n",
       "            color:  #000000;\n",
       "        }#T_9b212_row6_col12,#T_9b212_row7_col1{\n",
       "            background-color:  #6282ea;\n",
       "            color:  #000000;\n",
       "        }#T_9b212_row6_col13,#T_9b212_row11_col5{\n",
       "            background-color:  #7da0f9;\n",
       "            color:  #000000;\n",
       "        }#T_9b212_row7_col2{\n",
       "            background-color:  #dfdbd9;\n",
       "            color:  #000000;\n",
       "        }#T_9b212_row7_col3,#T_9b212_row7_col5,#T_9b212_row8_col6,#T_9b212_row11_col6{\n",
       "            background-color:  #4f69d9;\n",
       "            color:  #000000;\n",
       "        }#T_9b212_row7_col4{\n",
       "            background-color:  #6c8ff1;\n",
       "            color:  #000000;\n",
       "        }#T_9b212_row7_col8,#T_9b212_row7_col13{\n",
       "            background-color:  #3d50c3;\n",
       "            color:  #f1f1f1;\n",
       "        }#T_9b212_row7_col9,#T_9b212_row11_col7,#T_9b212_row13_col10{\n",
       "            background-color:  #688aef;\n",
       "            color:  #000000;\n",
       "        }#T_9b212_row7_col10{\n",
       "            background-color:  #f3c8b2;\n",
       "            color:  #000000;\n",
       "        }#T_9b212_row8_col1{\n",
       "            background-color:  #98b9ff;\n",
       "            color:  #000000;\n",
       "        }#T_9b212_row8_col4{\n",
       "            background-color:  #82a6fb;\n",
       "            color:  #000000;\n",
       "        }#T_9b212_row8_col9{\n",
       "            background-color:  #e9d5cb;\n",
       "            color:  #000000;\n",
       "        }#T_9b212_row8_col13{\n",
       "            background-color:  #f2c9b4;\n",
       "            color:  #000000;\n",
       "        }#T_9b212_row9_col0,#T_9b212_row13_col12{\n",
       "            background-color:  #cbd8ee;\n",
       "            color:  #000000;\n",
       "        }#T_9b212_row9_col1{\n",
       "            background-color:  #8badfd;\n",
       "            color:  #000000;\n",
       "        }#T_9b212_row9_col3{\n",
       "            background-color:  #97b8ff;\n",
       "            color:  #000000;\n",
       "        }#T_9b212_row9_col4{\n",
       "            background-color:  #7ea1fa;\n",
       "            color:  #000000;\n",
       "        }#T_9b212_row9_col7{\n",
       "            background-color:  #4a63d3;\n",
       "            color:  #f1f1f1;\n",
       "        }#T_9b212_row9_col13{\n",
       "            background-color:  #f2cab5;\n",
       "            color:  #000000;\n",
       "        }#T_9b212_row10_col1{\n",
       "            background-color:  #6687ed;\n",
       "            color:  #000000;\n",
       "        }#T_9b212_row10_col4,#T_9b212_row12_col3{\n",
       "            background-color:  #6e90f2;\n",
       "            color:  #000000;\n",
       "        }#T_9b212_row10_col5{\n",
       "            background-color:  #4055c8;\n",
       "            color:  #f1f1f1;\n",
       "        }#T_9b212_row10_col7{\n",
       "            background-color:  #edd2c3;\n",
       "            color:  #000000;\n",
       "        }#T_9b212_row10_col12,#T_9b212_row12_col5{\n",
       "            background-color:  #4961d2;\n",
       "            color:  #f1f1f1;\n",
       "        }#T_9b212_row10_col13{\n",
       "            background-color:  #4c66d6;\n",
       "            color:  #000000;\n",
       "        }#T_9b212_row11_col0{\n",
       "            background-color:  #d8dce2;\n",
       "            color:  #000000;\n",
       "        }#T_9b212_row11_col10{\n",
       "            background-color:  #a3c2fe;\n",
       "            color:  #000000;\n",
       "        }#T_9b212_row11_col13{\n",
       "            background-color:  #eed0c0;\n",
       "            color:  #000000;\n",
       "        }#T_9b212_row12_col7{\n",
       "            background-color:  #85a8fc;\n",
       "            color:  #000000;\n",
       "        }#T_9b212_row12_col8{\n",
       "            background-color:  #cad8ef;\n",
       "            color:  #000000;\n",
       "        }#T_9b212_row12_col10{\n",
       "            background-color:  #9ebeff;\n",
       "            color:  #000000;\n",
       "        }#T_9b212_row12_col13{\n",
       "            background-color:  #e7d7ce;\n",
       "            color:  #000000;\n",
       "        }#T_9b212_row13_col0{\n",
       "            background-color:  #cedaeb;\n",
       "            color:  #000000;\n",
       "        }#T_9b212_row13_col5{\n",
       "            background-color:  #5a78e4;\n",
       "            color:  #000000;\n",
       "        }#T_9b212_row13_col6{\n",
       "            background-color:  #3e51c5;\n",
       "            color:  #f1f1f1;\n",
       "        }#T_9b212_row13_col8{\n",
       "            background-color:  #f1ccb8;\n",
       "            color:  #000000;\n",
       "        }#T_9b212_row13_col9{\n",
       "            background-color:  #f5c0a7;\n",
       "            color:  #000000;\n",
       "        }</style><table id=\"T_9b212_\" ><thead>    <tr>        <th class=\"blank level0\" ></th>        <th class=\"col_heading level0 col0\" >age</th>        <th class=\"col_heading level0 col1\" >sex</th>        <th class=\"col_heading level0 col2\" >cp</th>        <th class=\"col_heading level0 col3\" >trestbps</th>        <th class=\"col_heading level0 col4\" >chol</th>        <th class=\"col_heading level0 col5\" >fbs</th>        <th class=\"col_heading level0 col6\" >restecg</th>        <th class=\"col_heading level0 col7\" >thalach</th>        <th class=\"col_heading level0 col8\" >exang</th>        <th class=\"col_heading level0 col9\" >oldpeak</th>        <th class=\"col_heading level0 col10\" >slope</th>        <th class=\"col_heading level0 col11\" >ca</th>        <th class=\"col_heading level0 col12\" >thal</th>        <th class=\"col_heading level0 col13\" >target</th>    </tr></thead><tbody>\n",
       "                <tr>\n",
       "                        <th id=\"T_9b212_level0_row0\" class=\"row_heading level0 row0\" >age</th>\n",
       "                        <td id=\"T_9b212_row0_col0\" class=\"data row0 col0\" >1.000000</td>\n",
       "                        <td id=\"T_9b212_row0_col1\" class=\"data row0 col1\" >-0.098447</td>\n",
       "                        <td id=\"T_9b212_row0_col2\" class=\"data row0 col2\" >-0.068653</td>\n",
       "                        <td id=\"T_9b212_row0_col3\" class=\"data row0 col3\" >0.279351</td>\n",
       "                        <td id=\"T_9b212_row0_col4\" class=\"data row0 col4\" >0.213678</td>\n",
       "                        <td id=\"T_9b212_row0_col5\" class=\"data row0 col5\" >0.121308</td>\n",
       "                        <td id=\"T_9b212_row0_col6\" class=\"data row0 col6\" >-0.116211</td>\n",
       "                        <td id=\"T_9b212_row0_col7\" class=\"data row0 col7\" >-0.398522</td>\n",
       "                        <td id=\"T_9b212_row0_col8\" class=\"data row0 col8\" >0.096801</td>\n",
       "                        <td id=\"T_9b212_row0_col9\" class=\"data row0 col9\" >0.210013</td>\n",
       "                        <td id=\"T_9b212_row0_col10\" class=\"data row0 col10\" >-0.168814</td>\n",
       "                        <td id=\"T_9b212_row0_col11\" class=\"data row0 col11\" >0.276326</td>\n",
       "                        <td id=\"T_9b212_row0_col12\" class=\"data row0 col12\" >0.068001</td>\n",
       "                        <td id=\"T_9b212_row0_col13\" class=\"data row0 col13\" >0.225439</td>\n",
       "            </tr>\n",
       "            <tr>\n",
       "                        <th id=\"T_9b212_level0_row1\" class=\"row_heading level0 row1\" >sex</th>\n",
       "                        <td id=\"T_9b212_row1_col0\" class=\"data row1 col0\" >-0.098447</td>\n",
       "                        <td id=\"T_9b212_row1_col1\" class=\"data row1 col1\" >1.000000</td>\n",
       "                        <td id=\"T_9b212_row1_col2\" class=\"data row1 col2\" >-0.049353</td>\n",
       "                        <td id=\"T_9b212_row1_col3\" class=\"data row1 col3\" >-0.056769</td>\n",
       "                        <td id=\"T_9b212_row1_col4\" class=\"data row1 col4\" >-0.197912</td>\n",
       "                        <td id=\"T_9b212_row1_col5\" class=\"data row1 col5\" >0.045032</td>\n",
       "                        <td id=\"T_9b212_row1_col6\" class=\"data row1 col6\" >-0.058196</td>\n",
       "                        <td id=\"T_9b212_row1_col7\" class=\"data row1 col7\" >-0.044020</td>\n",
       "                        <td id=\"T_9b212_row1_col8\" class=\"data row1 col8\" >0.141664</td>\n",
       "                        <td id=\"T_9b212_row1_col9\" class=\"data row1 col9\" >0.096093</td>\n",
       "                        <td id=\"T_9b212_row1_col10\" class=\"data row1 col10\" >-0.030711</td>\n",
       "                        <td id=\"T_9b212_row1_col11\" class=\"data row1 col11\" >0.118261</td>\n",
       "                        <td id=\"T_9b212_row1_col12\" class=\"data row1 col12\" >0.210041</td>\n",
       "                        <td id=\"T_9b212_row1_col13\" class=\"data row1 col13\" >0.280937</td>\n",
       "            </tr>\n",
       "            <tr>\n",
       "                        <th id=\"T_9b212_level0_row2\" class=\"row_heading level0 row2\" >cp</th>\n",
       "                        <td id=\"T_9b212_row2_col0\" class=\"data row2 col0\" >-0.068653</td>\n",
       "                        <td id=\"T_9b212_row2_col1\" class=\"data row2 col1\" >-0.049353</td>\n",
       "                        <td id=\"T_9b212_row2_col2\" class=\"data row2 col2\" >1.000000</td>\n",
       "                        <td id=\"T_9b212_row2_col3\" class=\"data row2 col3\" >0.047608</td>\n",
       "                        <td id=\"T_9b212_row2_col4\" class=\"data row2 col4\" >-0.076904</td>\n",
       "                        <td id=\"T_9b212_row2_col5\" class=\"data row2 col5\" >0.094444</td>\n",
       "                        <td id=\"T_9b212_row2_col6\" class=\"data row2 col6\" >0.044421</td>\n",
       "                        <td id=\"T_9b212_row2_col7\" class=\"data row2 col7\" >0.295762</td>\n",
       "                        <td id=\"T_9b212_row2_col8\" class=\"data row2 col8\" >-0.394280</td>\n",
       "                        <td id=\"T_9b212_row2_col9\" class=\"data row2 col9\" >-0.149230</td>\n",
       "                        <td id=\"T_9b212_row2_col10\" class=\"data row2 col10\" >0.119717</td>\n",
       "                        <td id=\"T_9b212_row2_col11\" class=\"data row2 col11\" >-0.181053</td>\n",
       "                        <td id=\"T_9b212_row2_col12\" class=\"data row2 col12\" >-0.161736</td>\n",
       "                        <td id=\"T_9b212_row2_col13\" class=\"data row2 col13\" >-0.433798</td>\n",
       "            </tr>\n",
       "            <tr>\n",
       "                        <th id=\"T_9b212_level0_row3\" class=\"row_heading level0 row3\" >trestbps</th>\n",
       "                        <td id=\"T_9b212_row3_col0\" class=\"data row3 col0\" >0.279351</td>\n",
       "                        <td id=\"T_9b212_row3_col1\" class=\"data row3 col1\" >-0.056769</td>\n",
       "                        <td id=\"T_9b212_row3_col2\" class=\"data row3 col2\" >0.047608</td>\n",
       "                        <td id=\"T_9b212_row3_col3\" class=\"data row3 col3\" >1.000000</td>\n",
       "                        <td id=\"T_9b212_row3_col4\" class=\"data row3 col4\" >0.123174</td>\n",
       "                        <td id=\"T_9b212_row3_col5\" class=\"data row3 col5\" >0.177531</td>\n",
       "                        <td id=\"T_9b212_row3_col6\" class=\"data row3 col6\" >-0.114103</td>\n",
       "                        <td id=\"T_9b212_row3_col7\" class=\"data row3 col7\" >-0.046698</td>\n",
       "                        <td id=\"T_9b212_row3_col8\" class=\"data row3 col8\" >0.067616</td>\n",
       "                        <td id=\"T_9b212_row3_col9\" class=\"data row3 col9\" >0.193216</td>\n",
       "                        <td id=\"T_9b212_row3_col10\" class=\"data row3 col10\" >-0.121475</td>\n",
       "                        <td id=\"T_9b212_row3_col11\" class=\"data row3 col11\" >0.101389</td>\n",
       "                        <td id=\"T_9b212_row3_col12\" class=\"data row3 col12\" >0.062210</td>\n",
       "                        <td id=\"T_9b212_row3_col13\" class=\"data row3 col13\" >0.144931</td>\n",
       "            </tr>\n",
       "            <tr>\n",
       "                        <th id=\"T_9b212_level0_row4\" class=\"row_heading level0 row4\" >chol</th>\n",
       "                        <td id=\"T_9b212_row4_col0\" class=\"data row4 col0\" >0.213678</td>\n",
       "                        <td id=\"T_9b212_row4_col1\" class=\"data row4 col1\" >-0.197912</td>\n",
       "                        <td id=\"T_9b212_row4_col2\" class=\"data row4 col2\" >-0.076904</td>\n",
       "                        <td id=\"T_9b212_row4_col3\" class=\"data row4 col3\" >0.123174</td>\n",
       "                        <td id=\"T_9b212_row4_col4\" class=\"data row4 col4\" >1.000000</td>\n",
       "                        <td id=\"T_9b212_row4_col5\" class=\"data row4 col5\" >0.013294</td>\n",
       "                        <td id=\"T_9b212_row4_col6\" class=\"data row4 col6\" >-0.151040</td>\n",
       "                        <td id=\"T_9b212_row4_col7\" class=\"data row4 col7\" >-0.009940</td>\n",
       "                        <td id=\"T_9b212_row4_col8\" class=\"data row4 col8\" >0.067023</td>\n",
       "                        <td id=\"T_9b212_row4_col9\" class=\"data row4 col9\" >0.053952</td>\n",
       "                        <td id=\"T_9b212_row4_col10\" class=\"data row4 col10\" >-0.004038</td>\n",
       "                        <td id=\"T_9b212_row4_col11\" class=\"data row4 col11\" >0.070511</td>\n",
       "                        <td id=\"T_9b212_row4_col12\" class=\"data row4 col12\" >0.098803</td>\n",
       "                        <td id=\"T_9b212_row4_col13\" class=\"data row4 col13\" >0.085239</td>\n",
       "            </tr>\n",
       "            <tr>\n",
       "                        <th id=\"T_9b212_level0_row5\" class=\"row_heading level0 row5\" >fbs</th>\n",
       "                        <td id=\"T_9b212_row5_col0\" class=\"data row5 col0\" >0.121308</td>\n",
       "                        <td id=\"T_9b212_row5_col1\" class=\"data row5 col1\" >0.045032</td>\n",
       "                        <td id=\"T_9b212_row5_col2\" class=\"data row5 col2\" >0.094444</td>\n",
       "                        <td id=\"T_9b212_row5_col3\" class=\"data row5 col3\" >0.177531</td>\n",
       "                        <td id=\"T_9b212_row5_col4\" class=\"data row5 col4\" >0.013294</td>\n",
       "                        <td id=\"T_9b212_row5_col5\" class=\"data row5 col5\" >1.000000</td>\n",
       "                        <td id=\"T_9b212_row5_col6\" class=\"data row5 col6\" >-0.084189</td>\n",
       "                        <td id=\"T_9b212_row5_col7\" class=\"data row5 col7\" >-0.008567</td>\n",
       "                        <td id=\"T_9b212_row5_col8\" class=\"data row5 col8\" >0.025665</td>\n",
       "                        <td id=\"T_9b212_row5_col9\" class=\"data row5 col9\" >0.005747</td>\n",
       "                        <td id=\"T_9b212_row5_col10\" class=\"data row5 col10\" >-0.059894</td>\n",
       "                        <td id=\"T_9b212_row5_col11\" class=\"data row5 col11\" >0.137979</td>\n",
       "                        <td id=\"T_9b212_row5_col12\" class=\"data row5 col12\" >-0.032019</td>\n",
       "                        <td id=\"T_9b212_row5_col13\" class=\"data row5 col13\" >0.028046</td>\n",
       "            </tr>\n",
       "            <tr>\n",
       "                        <th id=\"T_9b212_level0_row6\" class=\"row_heading level0 row6\" >restecg</th>\n",
       "                        <td id=\"T_9b212_row6_col0\" class=\"data row6 col0\" >-0.116211</td>\n",
       "                        <td id=\"T_9b212_row6_col1\" class=\"data row6 col1\" >-0.058196</td>\n",
       "                        <td id=\"T_9b212_row6_col2\" class=\"data row6 col2\" >0.044421</td>\n",
       "                        <td id=\"T_9b212_row6_col3\" class=\"data row6 col3\" >-0.114103</td>\n",
       "                        <td id=\"T_9b212_row6_col4\" class=\"data row6 col4\" >-0.151040</td>\n",
       "                        <td id=\"T_9b212_row6_col5\" class=\"data row6 col5\" >-0.084189</td>\n",
       "                        <td id=\"T_9b212_row6_col6\" class=\"data row6 col6\" >1.000000</td>\n",
       "                        <td id=\"T_9b212_row6_col7\" class=\"data row6 col7\" >0.044123</td>\n",
       "                        <td id=\"T_9b212_row6_col8\" class=\"data row6 col8\" >-0.070733</td>\n",
       "                        <td id=\"T_9b212_row6_col9\" class=\"data row6 col9\" >-0.058770</td>\n",
       "                        <td id=\"T_9b212_row6_col10\" class=\"data row6 col10\" >0.093045</td>\n",
       "                        <td id=\"T_9b212_row6_col11\" class=\"data row6 col11\" >-0.072042</td>\n",
       "                        <td id=\"T_9b212_row6_col12\" class=\"data row6 col12\" >-0.011981</td>\n",
       "                        <td id=\"T_9b212_row6_col13\" class=\"data row6 col13\" >-0.137230</td>\n",
       "            </tr>\n",
       "            <tr>\n",
       "                        <th id=\"T_9b212_level0_row7\" class=\"row_heading level0 row7\" >thalach</th>\n",
       "                        <td id=\"T_9b212_row7_col0\" class=\"data row7 col0\" >-0.398522</td>\n",
       "                        <td id=\"T_9b212_row7_col1\" class=\"data row7 col1\" >-0.044020</td>\n",
       "                        <td id=\"T_9b212_row7_col2\" class=\"data row7 col2\" >0.295762</td>\n",
       "                        <td id=\"T_9b212_row7_col3\" class=\"data row7 col3\" >-0.046698</td>\n",
       "                        <td id=\"T_9b212_row7_col4\" class=\"data row7 col4\" >-0.009940</td>\n",
       "                        <td id=\"T_9b212_row7_col5\" class=\"data row7 col5\" >-0.008567</td>\n",
       "                        <td id=\"T_9b212_row7_col6\" class=\"data row7 col6\" >0.044123</td>\n",
       "                        <td id=\"T_9b212_row7_col7\" class=\"data row7 col7\" >1.000000</td>\n",
       "                        <td id=\"T_9b212_row7_col8\" class=\"data row7 col8\" >-0.378812</td>\n",
       "                        <td id=\"T_9b212_row7_col9\" class=\"data row7 col9\" >-0.344187</td>\n",
       "                        <td id=\"T_9b212_row7_col10\" class=\"data row7 col10\" >0.386784</td>\n",
       "                        <td id=\"T_9b212_row7_col11\" class=\"data row7 col11\" >-0.213177</td>\n",
       "                        <td id=\"T_9b212_row7_col12\" class=\"data row7 col12\" >-0.096439</td>\n",
       "                        <td id=\"T_9b212_row7_col13\" class=\"data row7 col13\" >-0.421741</td>\n",
       "            </tr>\n",
       "            <tr>\n",
       "                        <th id=\"T_9b212_level0_row8\" class=\"row_heading level0 row8\" >exang</th>\n",
       "                        <td id=\"T_9b212_row8_col0\" class=\"data row8 col0\" >0.096801</td>\n",
       "                        <td id=\"T_9b212_row8_col1\" class=\"data row8 col1\" >0.141664</td>\n",
       "                        <td id=\"T_9b212_row8_col2\" class=\"data row8 col2\" >-0.394280</td>\n",
       "                        <td id=\"T_9b212_row8_col3\" class=\"data row8 col3\" >0.067616</td>\n",
       "                        <td id=\"T_9b212_row8_col4\" class=\"data row8 col4\" >0.067023</td>\n",
       "                        <td id=\"T_9b212_row8_col5\" class=\"data row8 col5\" >0.025665</td>\n",
       "                        <td id=\"T_9b212_row8_col6\" class=\"data row8 col6\" >-0.070733</td>\n",
       "                        <td id=\"T_9b212_row8_col7\" class=\"data row8 col7\" >-0.378812</td>\n",
       "                        <td id=\"T_9b212_row8_col8\" class=\"data row8 col8\" >1.000000</td>\n",
       "                        <td id=\"T_9b212_row8_col9\" class=\"data row8 col9\" >0.288223</td>\n",
       "                        <td id=\"T_9b212_row8_col10\" class=\"data row8 col10\" >-0.257748</td>\n",
       "                        <td id=\"T_9b212_row8_col11\" class=\"data row8 col11\" >0.115739</td>\n",
       "                        <td id=\"T_9b212_row8_col12\" class=\"data row8 col12\" >0.206754</td>\n",
       "                        <td id=\"T_9b212_row8_col13\" class=\"data row8 col13\" >0.436757</td>\n",
       "            </tr>\n",
       "            <tr>\n",
       "                        <th id=\"T_9b212_level0_row9\" class=\"row_heading level0 row9\" >oldpeak</th>\n",
       "                        <td id=\"T_9b212_row9_col0\" class=\"data row9 col0\" >0.210013</td>\n",
       "                        <td id=\"T_9b212_row9_col1\" class=\"data row9 col1\" >0.096093</td>\n",
       "                        <td id=\"T_9b212_row9_col2\" class=\"data row9 col2\" >-0.149230</td>\n",
       "                        <td id=\"T_9b212_row9_col3\" class=\"data row9 col3\" >0.193216</td>\n",
       "                        <td id=\"T_9b212_row9_col4\" class=\"data row9 col4\" >0.053952</td>\n",
       "                        <td id=\"T_9b212_row9_col5\" class=\"data row9 col5\" >0.005747</td>\n",
       "                        <td id=\"T_9b212_row9_col6\" class=\"data row9 col6\" >-0.058770</td>\n",
       "                        <td id=\"T_9b212_row9_col7\" class=\"data row9 col7\" >-0.344187</td>\n",
       "                        <td id=\"T_9b212_row9_col8\" class=\"data row9 col8\" >0.288223</td>\n",
       "                        <td id=\"T_9b212_row9_col9\" class=\"data row9 col9\" >1.000000</td>\n",
       "                        <td id=\"T_9b212_row9_col10\" class=\"data row9 col10\" >-0.577537</td>\n",
       "                        <td id=\"T_9b212_row9_col11\" class=\"data row9 col11\" >0.222682</td>\n",
       "                        <td id=\"T_9b212_row9_col12\" class=\"data row9 col12\" >0.210244</td>\n",
       "                        <td id=\"T_9b212_row9_col13\" class=\"data row9 col13\" >0.430696</td>\n",
       "            </tr>\n",
       "            <tr>\n",
       "                        <th id=\"T_9b212_level0_row10\" class=\"row_heading level0 row10\" >slope</th>\n",
       "                        <td id=\"T_9b212_row10_col0\" class=\"data row10 col0\" >-0.168814</td>\n",
       "                        <td id=\"T_9b212_row10_col1\" class=\"data row10 col1\" >-0.030711</td>\n",
       "                        <td id=\"T_9b212_row10_col2\" class=\"data row10 col2\" >0.119717</td>\n",
       "                        <td id=\"T_9b212_row10_col3\" class=\"data row10 col3\" >-0.121475</td>\n",
       "                        <td id=\"T_9b212_row10_col4\" class=\"data row10 col4\" >-0.004038</td>\n",
       "                        <td id=\"T_9b212_row10_col5\" class=\"data row10 col5\" >-0.059894</td>\n",
       "                        <td id=\"T_9b212_row10_col6\" class=\"data row10 col6\" >0.093045</td>\n",
       "                        <td id=\"T_9b212_row10_col7\" class=\"data row10 col7\" >0.386784</td>\n",
       "                        <td id=\"T_9b212_row10_col8\" class=\"data row10 col8\" >-0.257748</td>\n",
       "                        <td id=\"T_9b212_row10_col9\" class=\"data row10 col9\" >-0.577537</td>\n",
       "                        <td id=\"T_9b212_row10_col10\" class=\"data row10 col10\" >1.000000</td>\n",
       "                        <td id=\"T_9b212_row10_col11\" class=\"data row10 col11\" >-0.080155</td>\n",
       "                        <td id=\"T_9b212_row10_col12\" class=\"data row10 col12\" >-0.104764</td>\n",
       "                        <td id=\"T_9b212_row10_col13\" class=\"data row10 col13\" >-0.345877</td>\n",
       "            </tr>\n",
       "            <tr>\n",
       "                        <th id=\"T_9b212_level0_row11\" class=\"row_heading level0 row11\" >ca</th>\n",
       "                        <td id=\"T_9b212_row11_col0\" class=\"data row11 col0\" >0.276326</td>\n",
       "                        <td id=\"T_9b212_row11_col1\" class=\"data row11 col1\" >0.118261</td>\n",
       "                        <td id=\"T_9b212_row11_col2\" class=\"data row11 col2\" >-0.181053</td>\n",
       "                        <td id=\"T_9b212_row11_col3\" class=\"data row11 col3\" >0.101389</td>\n",
       "                        <td id=\"T_9b212_row11_col4\" class=\"data row11 col4\" >0.070511</td>\n",
       "                        <td id=\"T_9b212_row11_col5\" class=\"data row11 col5\" >0.137979</td>\n",
       "                        <td id=\"T_9b212_row11_col6\" class=\"data row11 col6\" >-0.072042</td>\n",
       "                        <td id=\"T_9b212_row11_col7\" class=\"data row11 col7\" >-0.213177</td>\n",
       "                        <td id=\"T_9b212_row11_col8\" class=\"data row11 col8\" >0.115739</td>\n",
       "                        <td id=\"T_9b212_row11_col9\" class=\"data row11 col9\" >0.222682</td>\n",
       "                        <td id=\"T_9b212_row11_col10\" class=\"data row11 col10\" >-0.080155</td>\n",
       "                        <td id=\"T_9b212_row11_col11\" class=\"data row11 col11\" >1.000000</td>\n",
       "                        <td id=\"T_9b212_row11_col12\" class=\"data row11 col12\" >0.151832</td>\n",
       "                        <td id=\"T_9b212_row11_col13\" class=\"data row11 col13\" >0.391724</td>\n",
       "            </tr>\n",
       "            <tr>\n",
       "                        <th id=\"T_9b212_level0_row12\" class=\"row_heading level0 row12\" >thal</th>\n",
       "                        <td id=\"T_9b212_row12_col0\" class=\"data row12 col0\" >0.068001</td>\n",
       "                        <td id=\"T_9b212_row12_col1\" class=\"data row12 col1\" >0.210041</td>\n",
       "                        <td id=\"T_9b212_row12_col2\" class=\"data row12 col2\" >-0.161736</td>\n",
       "                        <td id=\"T_9b212_row12_col3\" class=\"data row12 col3\" >0.062210</td>\n",
       "                        <td id=\"T_9b212_row12_col4\" class=\"data row12 col4\" >0.098803</td>\n",
       "                        <td id=\"T_9b212_row12_col5\" class=\"data row12 col5\" >-0.032019</td>\n",
       "                        <td id=\"T_9b212_row12_col6\" class=\"data row12 col6\" >-0.011981</td>\n",
       "                        <td id=\"T_9b212_row12_col7\" class=\"data row12 col7\" >-0.096439</td>\n",
       "                        <td id=\"T_9b212_row12_col8\" class=\"data row12 col8\" >0.206754</td>\n",
       "                        <td id=\"T_9b212_row12_col9\" class=\"data row12 col9\" >0.210244</td>\n",
       "                        <td id=\"T_9b212_row12_col10\" class=\"data row12 col10\" >-0.104764</td>\n",
       "                        <td id=\"T_9b212_row12_col11\" class=\"data row12 col11\" >0.151832</td>\n",
       "                        <td id=\"T_9b212_row12_col12\" class=\"data row12 col12\" >1.000000</td>\n",
       "                        <td id=\"T_9b212_row12_col13\" class=\"data row12 col13\" >0.344029</td>\n",
       "            </tr>\n",
       "            <tr>\n",
       "                        <th id=\"T_9b212_level0_row13\" class=\"row_heading level0 row13\" >target</th>\n",
       "                        <td id=\"T_9b212_row13_col0\" class=\"data row13 col0\" >0.225439</td>\n",
       "                        <td id=\"T_9b212_row13_col1\" class=\"data row13 col1\" >0.280937</td>\n",
       "                        <td id=\"T_9b212_row13_col2\" class=\"data row13 col2\" >-0.433798</td>\n",
       "                        <td id=\"T_9b212_row13_col3\" class=\"data row13 col3\" >0.144931</td>\n",
       "                        <td id=\"T_9b212_row13_col4\" class=\"data row13 col4\" >0.085239</td>\n",
       "                        <td id=\"T_9b212_row13_col5\" class=\"data row13 col5\" >0.028046</td>\n",
       "                        <td id=\"T_9b212_row13_col6\" class=\"data row13 col6\" >-0.137230</td>\n",
       "                        <td id=\"T_9b212_row13_col7\" class=\"data row13 col7\" >-0.421741</td>\n",
       "                        <td id=\"T_9b212_row13_col8\" class=\"data row13 col8\" >0.436757</td>\n",
       "                        <td id=\"T_9b212_row13_col9\" class=\"data row13 col9\" >0.430696</td>\n",
       "                        <td id=\"T_9b212_row13_col10\" class=\"data row13 col10\" >-0.345877</td>\n",
       "                        <td id=\"T_9b212_row13_col11\" class=\"data row13 col11\" >0.391724</td>\n",
       "                        <td id=\"T_9b212_row13_col12\" class=\"data row13 col12\" >0.344029</td>\n",
       "                        <td id=\"T_9b212_row13_col13\" class=\"data row13 col13\" >1.000000</td>\n",
       "            </tr>\n",
       "    </tbody></table>"
      ],
      "text/plain": [
       "<pandas.io.formats.style.Styler at 0x2b6bee890430>"
      ]
     },
     "execution_count": 7,
     "metadata": {},
     "output_type": "execute_result"
    }
   ],
   "source": [
    "df\n",
    "corr = df.corr()\n",
    "corr.style.background_gradient(cmap='coolwarm')\n",
    "#use for possible interactions"
   ]
  },
  {
   "cell_type": "code",
   "execution_count": 8,
   "metadata": {},
   "outputs": [
    {
     "data": {
      "text/plain": [
       "0.858085808580858"
      ]
     },
     "execution_count": 8,
     "metadata": {},
     "output_type": "execute_result"
    },
    {
     "data": {
      "image/png": "[encoded data removed]",
      "text/plain": [
       "<Figure size 432x288 with 2 Axes>"
      ]
     },
     "metadata": {
      "needs_background": "light"
     },
     "output_type": "display_data"
    }
   ],
   "source": [
    "'''table = pd.crosstab(df['sex'], df['target'])\n",
    "table\n",
    "df.columns\n",
    "'''\n",
    "Xtrain, Xtest, ytrain, ytest = train_test_split(x, y,\n",
    "                                                random_state=42)\n",
    "model = LogisticRegressionCV(penalty='l1', solver='liblinear')\n",
    "model.fit(Xtrain, ytrain)\n",
    "\n",
    "yfit = model.predict(Xtest)\n",
    "\n",
    "cm = confusion_matrix(ytest, yfit) # Plot the confusion matrix\n",
    "display_labels = 1\n",
    "cm_display = ConfusionMatrixDisplay(cm).plot(xticks_rotation='vertical')\n",
    "model.score(x,y)"
   ]
  },
  {
   "cell_type": "code",
   "execution_count": 10,
   "metadata": {},
   "outputs": [
    {
     "data": {
      "text/plain": [
       "0.858085808580858"
      ]
     },
     "execution_count": 10,
     "metadata": {},
     "output_type": "execute_result"
    },
    {
     "data": {
      "image/png": "[encoded data removed]",
      "text/plain": [
       "<Figure size 432x288 with 2 Axes>"
      ]
     },
     "metadata": {
      "needs_background": "light"
     },
     "output_type": "display_data"
    }
   ],
   "source": [
    "Xtrain, Xtest, ytrain, ytest = train_test_split(x, y,\n",
    "                                                random_state=42)\n",
    "model2 = LogisticRegressionCV(penalty='l2', solver='liblinear')\n",
    "model2.fit(Xtrain, ytrain)\n",
    "\n",
    "yfit = model2.predict(Xtest)\n",
    "cm = confusion_matrix(ytest, yfit)\n",
    "# Plot the confusion matrix\n",
    "display_labels = 1\n",
    "cm_display2 = ConfusionMatrixDisplay(cm).plot(xticks_rotation='vertical')\n",
    "model.score(x,y)\n"
   ]
  },
  {
   "cell_type": "code",
   "execution_count": 11,
   "metadata": {},
   "outputs": [
    {
     "data": {
      "text/plain": [
       "0.8947368421052632"
      ]
     },
     "execution_count": 11,
     "metadata": {},
     "output_type": "execute_result"
    },
    {
     "data": {
      "image/png": "[encoded data removed]",
      "text/plain": [
       "<Figure size 432x288 with 2 Axes>"
      ]
     },
     "metadata": {
      "needs_background": "light"
     },
     "output_type": "display_data"
    }
   ],
   "source": [
    "Xtrain, Xtest, ytrain, ytest = train_test_split(x, y,test_size=.25,\n",
    "                                                random_state=42)\n",
    "model3 = LogisticRegressionCV()\n",
    "model3.fit(Xtrain, ytrain)\n",
    "\n",
    "yfit = model3.predict(Xtest)\n",
    "cm = confusion_matrix(ytest, yfit)\n",
    "# Plot the confusion matrix\n",
    "display_labels = 1\n",
    "cm_display3 = ConfusionMatrixDisplay(cm).plot(xticks_rotation='vertical')\n",
    "model3.score(Xtest,ytest) #reports the raw accuracy (right/total)"
   ]
  },
  {
   "cell_type": "code",
   "execution_count": 19,
   "metadata": {},
   "outputs": [
    {
     "name": "stdout",
     "output_type": "stream",
     "text": [
      "0.8547854785478548\n",
      "0.7520765027322404 0.24792349726775958\n",
      "[[0.98698987 3.7360774  0.4378458  1.01572453 1.00299837 1.08465535\n",
      "  0.58396456 0.97013564 2.18490335 1.65482655 0.59745641 2.04709152\n",
      "  2.40235135]]\n",
      "[0.04641589]\n"
     ]
    }
   ],
   "source": [
    "model = LogisticRegression()\n",
    "model.fit(x, y)\n",
    "# Uses the k-fold cross-validation method to see how well the model works on new data\n",
    "kf = KFold(n_splits=5)\n",
    "res = cross_val_score(model, x, y, cv=kf, scoring=mse) #Look further into\n",
    "cv_mse = res.mean()\n",
    "res = cross_val_score(model, x, y, cv=kf)\n",
    "cv_r2 = res.mean()\n",
    "\n",
    "# Prints the R^2 and mean squared error values\n",
    "print(model.score(x,y))\n",
    "print(cv_r2, cv_mse)\n",
    "print(np.exp(model.coef_))\n",
    "print(1/log.C_) # (regularization param!)\n",
    "\n"
   ]
  },
  {
   "cell_type": "code",
   "execution_count": null,
   "metadata": {},
   "outputs": [],
   "source": []
  },
  {
   "cell_type": "code",
   "execution_count": 20,
   "metadata": {},
   "outputs": [
    {
     "name": "stdout",
     "output_type": "stream",
     "text": [
      "0.8514851485148515\n",
      "0.74224043715847 0.25775956284153\n",
      "[[0.99971546 5.48338237 0.42746853 1.01852435 1.00432361 0.97341053\n",
      "  0.62197175 0.97475434 2.53741736 1.70159134 0.55899747 2.15802054\n",
      "  2.42927334]]\n",
      "[0.04641589]\n"
     ]
    }
   ],
   "source": [
    "model = LogisticRegressionCV()\n",
    "model.fit(x, y)\n",
    "# Uses the k-fold cross-validation method to see how well the model works on new data\n",
    "kf = KFold(n_splits=5)\n",
    "res = cross_val_score(model, x, y, cv=kf, scoring=mse) #Look further into\n",
    "cv_mse = res.mean()\n",
    "res = cross_val_score(model, x, y, cv=kf)\n",
    "cv_r2 = res.mean()\n",
    "\n",
    "# Prints the R^2 and mean squared error values\n",
    "print(model.score(x,y))\n",
    "print(cv_r2, cv_mse)\n",
    "print(np.exp(model.coef_))\n",
    "print(1/log.C_) # (regularization param!)\n"
   ]
  },
  {
   "cell_type": "code",
   "execution_count": 25,
   "metadata": {},
   "outputs": [
    {
     "name": "stdout",
     "output_type": "stream",
     "text": [
      "c-v R^2: 0.7487431693989072 c-v mse: 0.2512568306010929\n",
      "Coefs [[ 0.00311704  1.732482   -0.85591517  0.01899996  0.00451773 -0.01676661\n",
      "  -0.46647581 -0.0240681   0.96170997  0.53568883 -0.5750018   0.76893976\n",
      "   0.89139865]]\n",
      "Lambda:  [0.04641589]\n"
     ]
    }
   ],
   "source": [
    "####LASSO#####\n",
    "log = LogisticRegressionCV(penalty='l1', solver='liblinear')\n",
    "log.fit(x,y)\n",
    "kf = KFold(n_splits=5)\n",
    "res = cross_val_score(log, x, y, cv=kf, scoring=mse)\n",
    "cv_mse = res.mean()\n",
    "res = cross_val_score(log, x, y, cv=kf)\n",
    "cv_r2 = res.mean()\n",
    "\n",
    "# Prints the R^2 and mean squared error values\n",
    "print('c-v R^2:', cv_r2, 'c-v mse:', cv_mse)\n",
    "lassocoefs = np.exp(log.coef_) #log odds numbers exponentiated to get odds\n",
    "print('Coefs', log.coef_)\n",
    "print('Lambda: ', 1/log.C_) # (regularization param!)\n"
   ]
  },
  {
   "cell_type": "code",
   "execution_count": 17,
   "metadata": {},
   "outputs": [
    {
     "name": "stdout",
     "output_type": "stream",
     "text": [
      "0.7487431693989072 0.2512568306010929\n",
      "c-v R^2: 0.7487431693989072 c-v mse: 0.2512568306010929\n",
      "[[1.00317404 5.65644571 0.42487033 1.01918644 1.00453012 0.98328017\n",
      "  0.62731688 0.97624502 2.61693304 1.70875795 0.56271871 2.15749842\n",
      "  2.43890685]]\n",
      "0.8514851485148515\n",
      "[0.04641589]\n"
     ]
    }
   ],
   "source": [
    "####LASSO 2#####\n",
    "helpme = [.1,.2,.4,.5,.9,1,2,3,4]\n",
    "log = LogisticRegressionCV(penalty='l1', solver='liblinear')\n",
    "log.fit(x,y)\n",
    "kf = KFold(n_splits=5)\n",
    "res = cross_val_score(log, x, y, cv=kf, scoring=mse)\n",
    "cv_mse = res.mean()\n",
    "res = cross_val_score(log, x, y, cv=kf)\n",
    "cv_r2 = res.mean()\n",
    "\n",
    "# Prints the R^2 and mean squared error values\n",
    "print(cv_r2, cv_mse)\n",
    "print('c-v R^2:', cv_r2, 'c-v mse:', cv_mse)\n",
    "#print(log.coef_)\n",
    "lassocoefs = np.exp(log.coef_) #log odds numbers exponentiated to get odds\n",
    "print(lassocoefs)\n",
    "print(log.score(x,y))\n",
    "print(1/log.C_) # (regularization parameter)\n"
   ]
  },
  {
   "cell_type": "code",
   "execution_count": 127,
   "metadata": {},
   "outputs": [
    {
     "name": "stdout",
     "output_type": "stream",
     "text": [
      "sex            5.653751602242549\n",
      "cp            0.4248947945434465\n",
      "trestbps            1.0191736725224736\n",
      "chol            1.004527231995644\n",
      "fbs            0.9835124834456533\n",
      "restecg            0.6271329563727596\n",
      "thalach            0.9761968998293162\n",
      "exang            2.6158779895723314\n",
      "oldpeak            1.7084870548071547\n",
      "slope            0.5627472409701282\n",
      "ca            2.15742768734425\n",
      "thal            2.4383452769046614\n"
     ]
    },
    {
     "data": {
      "text/plain": [
       "0"
      ]
     },
     "execution_count": 127,
     "metadata": {},
     "output_type": "execute_result"
    }
   ],
   "source": [
    "for i in range(1, 13):\n",
    "    print(df.columns[i], '          ', lassocoefs[0,i])\n",
    "    var.append(df.columns[i])\n",
    "var.pop(0)"
   ]
  },
  {
   "cell_type": "code",
   "execution_count": 128,
   "metadata": {},
   "outputs": [
    {
     "data": {
      "text/plain": [
       "1.0191736725224736"
      ]
     },
     "execution_count": 128,
     "metadata": {},
     "output_type": "execute_result"
    }
   ],
   "source": [
    "lassocoefs[0,3]"
   ]
  },
  {
   "cell_type": "code",
   "execution_count": 181,
   "metadata": {},
   "outputs": [
    {
     "name": "stdout",
     "output_type": "stream",
     "text": [
      "0.7389617486338798 0.2610382513661202\n",
      "c-v R^2: 0.7389617486338798 c-v mse: 0.2610382513661202\n",
      "[[-0.00857308  1.10292706 -0.75012508  0.01497082  0.0028647   0.0212967\n",
      "  -0.38574804 -0.02883004  0.65390276  0.50311826 -0.43487041  0.68187401\n",
      "   0.73217843]]\n",
      "0.8547854785478548\n",
      "[2.7825594]\n"
     ]
    }
   ],
   "source": [
    "####RIDGE#####\n",
    "log = LogisticRegressionCV(penalty='l2', solver='liblinear')\n",
    "log.fit(x,y)\n",
    "res = cross_val_score(log, x, y, cv=kf, scoring=mse)\n",
    "cv_mse = res.mean()\n",
    "res = cross_val_score(log, x, y, cv=kf)\n",
    "cv_r2 = res.mean()\n",
    "\n",
    "# Prints the R^2 and mean squared error values\n",
    "print(cv_r2, cv_mse)\n",
    "print('c-v R^2:', cv_r2, 'c-v mse:', cv_mse)\n",
    "print(log.coef_)\n",
    "ridgecoefs = np.exp(log.coef_)\n",
    "print(log.score(x,y))\n",
    "print(1/log.C_) # (regularization param!)\n",
    "\n",
    "\n"
   ]
  },
  {
   "cell_type": "code",
   "execution_count": 130,
   "metadata": {},
   "outputs": [
    {
     "name": "stdout",
     "output_type": "stream",
     "text": [
      "5.653751602242549\n",
      "3.0129722811068573\n"
     ]
    }
   ],
   "source": [
    "delta = lassocoefs - ridgecoefs\n",
    "#bar graph, dont necessarily have to subtract\n",
    "#consider comparing to normal log reg without \n",
    "var\n",
    "deltaList = delta.tolist()\n",
    "deltaList\n",
    "print(lassocoefs[0,1])\n",
    "print(ridgecoefs[0,1])"
   ]
  },
  {
   "cell_type": "code",
   "execution_count": 180,
   "metadata": {},
   "outputs": [
    {
     "name": "stdout",
     "output_type": "stream",
     "text": [
      "[0 0 0 0 0 0 0 0 0 0 0 0 0 0 0 0 0 0 0 0 1 0 0 0 0 0 0 0 0 0 0 0 0 0 0 0 0\n",
      " 0 0 0 0 0 1 0 0 0 0 0 0 0 0 0 1 0 0 0 0 0 0 0 0 0 0 0 0 0 0 0 0 0 0 0 0 0\n",
      " 0 0 0 0 0 0 0 0 0 0 0 0 0 0 0 0 0 0 0 0 0 1 0 1 0 0 0 1 0 0 0 0 0 0 0 0 0\n",
      " 0 0 0 0 0 0 0 0 0 1 0 0 0 0 0 0 0 0 0 0 0 0 0 0 0 0 0 1 1 0 0 0 0 0 0 0 0\n",
      " 0 0 1 0 0 0 0 0 0 0 1 0 0 0 0 0 0 1 1 1 1 1 0 0 0 1 1 1 1 0 1 1 1 1 0 1 1\n",
      " 0 1 1 0 0 1 1 1 1 0 1 1 1 1 0 0 1 1 1 1 1 1 1 1 1 0 1 1 1 1 1 1 1 1 1 1 1\n",
      " 0 1 1 1 1 1 0 1 0 1 1 1 1 1 1 1 1 1 1 0 1 1 1 1 1 1 0 1 1 1 1 1 0 1 1 1 0\n",
      " 0 1 0 1 1 1 1 1 1 1 1 1 1 1 0 1 1 1 0 0 1 1 0 0 0 1 1 0 0 1 1 1 1 1 0 1 1\n",
      " 0 1 1 0 1 1 0]\n"
     ]
    }
   ],
   "source": [
    "y_pred = log.predict(x)\n",
    "print(y_pred)"
   ]
  },
  {
   "cell_type": "code",
   "execution_count": 172,
   "metadata": {},
   "outputs": [
    {
     "name": "stdout",
     "output_type": "stream",
     "text": [
      "[1, 2, 3, 4, 5, 6, 7, 8, 9, 10, 0.1, 0.2, 0.3, 0.4, 0.5, 0.6, 0.7, 0.8, 0.9, 1.0]\n",
      "cv_r2: 0.7521311475409835   score: 0.8514851485148515   Lambda: [1.]\n",
      "cv_r2: 0.7520765027322404   score: 0.858085808580858   Lambda: [2.]\n",
      "cv_r2: 0.7520765027322404   score: 0.8547854785478548   Lambda: [3.]\n",
      "cv_r2: 0.7420765027322405   score: 0.8547854785478548   Lambda: [4.]\n",
      "cv_r2: 0.7453551912568306   score: 0.8547854785478548   Lambda: [5.]\n",
      "cv_r2: 0.7354098360655738   score: 0.8547854785478548   Lambda: [6.]\n",
      "cv_r2: 0.7386885245901639   score: 0.8547854785478548   Lambda: [7.]\n",
      "cv_r2: 0.7386885245901639   score: 0.8613861386138614   Lambda: [8.]\n",
      "cv_r2: 0.7320218579234973   score: 0.8646864686468647   Lambda: [9.]\n",
      "cv_r2: 0.7320218579234973   score: 0.8613861386138614   Lambda: [10.]\n",
      "cv_r2: 0.7389617486338798   score: 0.8547854785478548   Lambda: [0.1]\n",
      "cv_r2: 0.7389617486338798   score: 0.8547854785478548   Lambda: [0.2]\n",
      "cv_r2: 0.7389617486338798   score: 0.8547854785478548   Lambda: [0.3]\n",
      "cv_r2: 0.7389617486338798   score: 0.8547854785478548   Lambda: [0.4]\n",
      "cv_r2: 0.7455191256830601   score: 0.858085808580858   Lambda: [0.5]\n",
      "cv_r2: 0.7455191256830601   score: 0.858085808580858   Lambda: [0.6]\n",
      "cv_r2: 0.7487978142076502   score: 0.8547854785478548   Lambda: [0.7]\n",
      "cv_r2: 0.7554098360655737   score: 0.8547854785478548   Lambda: [0.8]\n",
      "cv_r2: 0.7521311475409835   score: 0.8547854785478548   Lambda: [0.9]\n",
      "cv_r2: 0.7521311475409835   score: 0.8514851485148515   Lambda: [1.]\n",
      "[[0.7554098360655737, array([0.8])], [0.7521311475409835, array([1.])], [0.7521311475409835, array([1.])], [0.7521311475409835, array([0.9])], [0.7520765027322404, array([3.])], [0.7520765027322404, array([2.])], [0.7487978142076502, array([0.7])], [0.7455191256830601, array([0.6])], [0.7455191256830601, array([0.5])], [0.7453551912568306, array([5.])], [0.7420765027322405, array([4.])], [0.7389617486338798, array([0.4])], [0.7389617486338798, array([0.3])], [0.7389617486338798, array([0.2])], [0.7389617486338798, array([0.1])], [0.7386885245901639, array([8.])], [0.7386885245901639, array([7.])], [0.7354098360655738, array([6.])], [0.7320218579234973, array([10.])], [0.7320218579234973, array([9.])]]\n"
     ]
    }
   ],
   "source": [
    "kf = KFold(n_splits=5)\n",
    "iter1 = [1,2,3,4,5,6,7,8,9,10]\n",
    "\n",
    "#iter2 = iter1.append(iter1)\n",
    "iter2 = [x/10 for x in iter1]\n",
    "iter1.extend(iter2)\n",
    "print(iter1)\n",
    "iterable = [1/x for x in iter1]\n",
    "accuracyList = []\n",
    "listAccList = []\n",
    "for i in iterable:\n",
    "    a = [i]\n",
    "    log = LogisticRegressionCV(penalty='l2', solver='liblinear', Cs = a)\n",
    "    log.fit(x,y)\n",
    "    res = cross_val_score(log, x, y, cv=kf)\n",
    "    cv_r2 = res.mean()\n",
    "    print('cv_r2:',(cv_r2),'  score:', log.score(x,y), '  Lambda:', 1/log.C_)\n",
    "    listAccList.append(cv_r2)\n",
    "    accuracyList.append([cv_r2, 1/log.C_])\n",
    "\n",
    "accuracyList.sort(reverse = True)"
   ]
  },
  {
   "cell_type": "code",
   "execution_count": 177,
   "metadata": {},
   "outputs": [
    {
     "name": "stdout",
     "output_type": "stream",
     "text": [
      "[0.7521311475409835, 0.7520765027322404, 0.7520765027322404, 0.7420765027322405, 0.7453551912568306, 0.7354098360655738, 0.7386885245901639, 0.7386885245901639, 0.7320218579234973, 0.7320218579234973, 0.7389617486338798, 0.7389617486338798, 0.7389617486338798, 0.7389617486338798, 0.7455191256830601, 0.7455191256830601, 0.7487978142076502, 0.7554098360655737, 0.7521311475409835, 0.7521311475409835]\n"
     ]
    },
    {
     "data": {
      "image/png": "[encoded data removed]",
      "text/plain": [
       "<Figure size 432x288 with 1 Axes>"
      ]
     },
     "metadata": {
      "needs_background": "light"
     },
     "output_type": "display_data"
    }
   ],
   "source": [
    "plt.scatter(iterable[0:10], listAccList[0:10])\n",
    "print(listAccList)\n",
    "plt.show()"
   ]
  },
  {
   "cell_type": "code",
   "execution_count": 115,
   "metadata": {},
   "outputs": [
    {
     "data": {
      "image/png": "[encoded data removed]",
      "text/plain": [
       "<Figure size 432x288 with 1 Axes>"
      ]
     },
     "metadata": {
      "needs_background": "light"
     },
     "output_type": "display_data"
    },
    {
     "data": {
      "text/plain": [
       "<Figure size 640x480 with 0 Axes>"
      ]
     },
     "metadata": {},
     "output_type": "display_data"
    },
    {
     "data": {
      "text/plain": [
       "<BarContainer object of 11 artists>"
      ]
     },
     "metadata": {},
     "output_type": "display_data"
    },
    {
     "data": {
      "text/plain": [
       "Text(0.5, 0, 'variables')"
      ]
     },
     "metadata": {},
     "output_type": "display_data"
    },
    {
     "data": {
      "image/png": "[encoded data removed]",
      "text/plain": [
       "<Figure size 864x864 with 1 Axes>"
      ]
     },
     "metadata": {
      "needs_background": "light"
     },
     "output_type": "display_data"
    }
   ],
   "source": [
    "deltaList1 = [0.011613346819837722,\n",
    "  2.641878256929849,\n",
    "  -0.047398775709704855,\n",
    "  0.004087999361456429,\n",
    "  0.001659192173478985,\n",
    "  -0.037974787404609245,\n",
    "  -0.05280998402991355,\n",
    "  0.0046107341512784394,\n",
    "  0.6924859502117333,\n",
    "  0.05458908745135349,\n",
    "  -0.08461005005288902,\n",
    "  0.17980501025361884,\n",
    "  0.3585307681657781]\n",
    "var1 = ['cp',\n",
    " 'trestbps',\n",
    " 'chol',\n",
    " 'fbs',\n",
    " 'restecg',\n",
    " 'thalach',\n",
    " 'exang',\n",
    " 'oldpeak',\n",
    " 'slope',\n",
    " 'ca',\n",
    " 'thal']\n",
    "deltaList2 = ['cp','trestbps','chol','fbs','restecg','thalach',\n",
    " 'exang',\n",
    " 'oldpeak',\n",
    " 'slope','ca','thal']\n",
    "var2 = [0.011613346819837722,\n",
    "  2.641878256929849,\n",
    "  -0.047398775709704855,\n",
    "  0.004087999361456429,\n",
    "  0.001659192173478985,\n",
    "                  -0.037974787404609245,\n",
    "  -0.05280998402991355,\n",
    "  0.0046107341512784394,\n",
    "  0.6924859502117333,  0.05458908745135349,\n",
    "  -0.08461005005288902,]\n",
    "\n",
    "\n",
    "\n",
    "#plt.bar(var1, deltaList1)\n",
    "plt.title('Lasso - Ridge Coefficients')\n",
    "plt.yscale('linear')\n",
    "\n",
    "plt.xlabel('xAxis name')\n",
    "plt.ylabel('yAxis name')\n",
    "plt.figure(figsize=(8, 6), dpi=80)\n",
    "\n",
    "\n",
    "plt.show()\n",
    "plt.figure(figsize=(12, 12))\n",
    "display(\n",
    "    plt.bar(deltaList2, var2),\n",
    "    plt.xlabel('variables'),\n",
    "    plt.ylabel('Difference'),\n",
    "    \n",
    ")\n"
   ]
  },
  {
   "cell_type": "code",
   "execution_count": 16,
   "metadata": {},
   "outputs": [
    {
     "data": {
      "text/plain": [
       "0.9253403601229688"
      ]
     },
     "execution_count": 16,
     "metadata": {},
     "output_type": "execute_result"
    }
   ],
   "source": [
    "roc = roc_auc_score(y, model.decision_function(x), multi_class=\"ovr\",average=None)\n",
    "roc"
   ]
  }
 ],
 "metadata": {
  "kernelspec": {
   "display_name": "Python 3.8 (full)",
   "language": "python",
   "name": "python3-3.8-ufrc"
  },
  "language_info": {
   "codemirror_mode": {
    "name": "ipython",
    "version": 3
   },
   "file_extension": ".py",
   "mimetype": "text/x-python",
   "name": "python",
   "nbconvert_exporter": "python",
   "pygments_lexer": "ipython3",
   "version": "3.8.5"
  }
 },
 "nbformat": 4,
 "nbformat_minor": 4
}