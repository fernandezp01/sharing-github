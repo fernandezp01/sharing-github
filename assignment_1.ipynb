{
 "cells": [
  {
   "cell_type": "code",
   "execution_count": 50,
   "metadata": {},
   "outputs": [
    {
     "name": "stdout",
     "output_type": "stream",
     "text": [
      "The largest number is: 5\n"
     ]
    }
   ],
   "source": [
    "##################################################################################################################################################################################################################################################################################\n",
    "#Assignment 1: Python Fundamentals\n",
    "#Completed by Paul Fernandez\n",
    "##################################################################################################################################################################################################################################################################################\n",
    "#Problem 1\n",
    "#Write a Python function, find_max(), to find and return the largest number in a non-empty list of numbers. E.g., if nums = [1, 2, 3, 4, 5], find_max(nums) should return 5.\n",
    "#Note: Python has a builtin max() function; don't use it for this exercise! The goal here is to practice solving basic programming problems on your own.#\n",
    "#Purpose: To give you practice solving basic programming problems with Python and working with array-like data structures.\n",
    "##################################################################################################################################################################################################################################################################################\n",
    "\n",
    "numberValues = [1, 2, 3, 4, 5]                           #Setting array to a variable that will be analyzed by function\n",
    "\n",
    "def find_max(numberValues):                              #Defines function \"find_max\" and allows previously established variable as an argument\n",
    "    '''Takes in array, provides largest number in array'''\n",
    "    numberValues.sort()                                  #Sorts values in array\n",
    "    print(\"The largest number is:\", numberValues[-1])    #Prints a string along with the last number sorted from the array which would be the greatest\n",
    "find_max(numberValues)                                   #Implements defined function so that the process can be carried out\n"
   ]
  },
  {
   "cell_type": "code",
   "execution_count": 74,
   "metadata": {},
   "outputs": [
    {
     "name": "stdout",
     "output_type": "stream",
     "text": [
      "The largest number is: 88\n",
      "The largest number is: 75\n",
      "The largest number is: 91\n"
     ]
    }
   ],
   "source": [
    "#Create and test some sample lists to demonstrate that your find_max() function works correctly.\n",
    "\n",
    "sampleList1 = [88, 41, 20, 29, 2]                        #Various lists produced by a random set generator\n",
    "sampleList2 = [3, 66, 75, 29, 52]\n",
    "sampleList3 = [49, 91, 79, 28, 43]\n",
    "\n",
    "find_max(sampleList1)\n",
    "\n",
    "find_max(sampleList2)\n",
    "\n",
    "find_max(sampleList3)"
   ]
  },
  {
   "cell_type": "code",
   "execution_count": 76,
   "metadata": {},
   "outputs": [
    {
     "name": "stdout",
     "output_type": "stream",
     "text": [
      "The median is: 3\n"
     ]
    }
   ],
   "source": [
    "##################################################################################################################################################################################################################################################################################\n",
    "#Problem 2\n",
    "#Write a Python function, median(), that returns the median value of a non-empty list of numbers. Use the usual definition of \"median\". You will likely find the Python list documentation to be helpful for solving this problem.\n",
    "#Note: You can find ready-to-use median function in numpy and elsewhere; don't use them for this exercise! The goal here is to practice solving basic programming problems on your own.\n",
    "#Purpose: To give you practice solving basic programming problems with Python and working with array-like data structures.\n",
    "##################################################################################################################################################################################################################################################################################\n",
    "\n",
    "numberValues = [1, 2, 3, 4, 5]                           #Setting array to a variable that will be analyzed by function\n",
    "\n",
    "def median(numberValues):                                #Defines function \"median\" and allows previously established variable as an argument\n",
    "    '''Takes in array, provides the median of array'''\n",
    "    length = len(numberValues)                           #Finds the length of the array and stores information in variable \"length\"\n",
    "    numberValues.sort()                                  #Sorts the number values within the array\n",
    "    if length % 2 == 0:                                  #If statement is used if array happens to have an even quantity of values, uses modulus operator to determine if the length is even\n",
    "        value1 = numberValues[length//2]                 #Establishes first central value through floor division\n",
    "        value2 = numberValues[length//2-1]               #Establishes second central value through floor division\n",
    "        medianValue = ((value1 + value2)/2)              #Find the average of the two central values\n",
    "    else:                                                #If the if statement fails, that is, if the modulus operator does not evaluate that the quantity when divided by two is zero, then instead the function will proceed to find the central number in the sorted array\n",
    "        medianValue = numberValues[length//2]            #Finds the only middle value in the odd numbered array\n",
    "    print(\"The median is:\", medianValue)                 #Prints the \"medianValue\" variable which is established earlier in the function\n",
    "median(numberValues)                                     #Implements defined function so that the process can be carried out"
   ]
  },
  {
   "cell_type": "code",
   "execution_count": 77,
   "metadata": {},
   "outputs": [
    {
     "name": "stdout",
     "output_type": "stream",
     "text": [
      "The median is: 80\n",
      "The median is: 42.0\n",
      "The median is: 39.0\n"
     ]
    }
   ],
   "source": [
    "#Create and test some sample lists to demonstrate that your median() function works correctly.\n",
    "\n",
    "sampleList4 = [80, 36, 92, 95, 21]                       #Various lists produced by a random set generator\n",
    "sampleList5 = [10, 13, 78, 45, 53, 95, 39, 1]\n",
    "sampleList6 = [16, 58, 29, 34, 62, 4, 27, 88, 44, 1, 100, 76]\n",
    "\n",
    "\n",
    "median(sampleList4)\n",
    "\n",
    "median(sampleList5)\n",
    "\n",
    "median(sampleList6)"
   ]
  },
  {
   "cell_type": "code",
   "execution_count": 71,
   "metadata": {},
   "outputs": [
    {
     "name": "stdout",
     "output_type": "stream",
     "text": [
      "The roots are: -0.06758008011226273 , -4.932419919887738\n"
     ]
    }
   ],
   "source": [
    "###########################################################################################################################################################################################################################################################################################################################################################################################################################################################################################################################################################\n",
    "#Problem 3\n",
    "#Write a Python function to find the roots of a quadratic equation, $ax^2 + bx + c = 0$. (The easiest way to do this is by using the quadratic formula that you learned in algebra: $x = \\frac{-b \\pm \\sqrt{b^2 - 4ac}}{2a}$.) Your function should take three arguments that represent the coefficients of the equation to solve (e.g., find_roots(a, b, c)). If there are no real roots (i.e., if complex numbers would be required), your function can simply return None. You will need to use Python's math package to solve this problem.\n",
    "#You may assume that $a$ is non-zero, but if you'd like an extra challenge, have your function handle the case where $a = 0$; that is, when the equation is linear and not quadratic.\n",
    "#Purpose: To give you practice implementing numerical computations in Python, translating mathematical statements to code, and using Python packages. And, of course, to give you practice solving problems with Python.\n",
    "###########################################################################################################################################################################################################################################################################################################################################################################################################################################################################################################################################################\n",
    "import math                                              #Imports math package to be used in function\n",
    "\n",
    "a = 3                                                    #Variable \"a\" is set according to what is analyzed from the quadratic equation\n",
    "b = 15                                                   #Variable \"b\" is set according to what is analyzed from the quadratic equation\n",
    "c = 1                                                    #Variable \"c\" is set according to what is analyzed from the quadratic equation\n",
    "\n",
    "def find_roots(a , b, c):                                #Defines function \"find_roots\" and allows previously established variables as arguments\n",
    "    '''Takes in 3 variables, provides roots from quadratic formula calculation'''\n",
    "    root1 = (-(b)+((b**2)-4*(a)*(c))**(1/2))/(2*a)       #Finds the positive root of the function using the quadratic formula\n",
    "    root2 = (-(b)-((b**2)-4*(a)*(c))**(1/2))/(2*a)       #Finds the negative root of the function using the quadratic formula\n",
    "    if (b**2)-(4*a*c) < 0:                               #If statement used in the event that the roots are complex numbers, this being done by finding if a negative number is square-rooted\n",
    "        print(\"There are only complex roots\")            #Prints a statement verifying that the roots produced are complex numbers\n",
    "    else:                                                #If the if statement fails then the roots are integers\n",
    "        print(\"The roots are:\",root1, \",\", root2)        #Prints a statement that has the calculated root numbers\n",
    "find_roots(a, b, c)                                      #Implements defined function so that the process can be carried out"
   ]
  },
  {
   "cell_type": "code",
   "execution_count": 82,
   "metadata": {},
   "outputs": [
    {
     "name": "stdout",
     "output_type": "stream",
     "text": [
      "a= 62 , b= 95 , c= 78\n",
      "There are only complex roots\n",
      "The complex roots are: (-0.7661290322580645+0.8192135387433205j) , (-0.7661290322580645-0.8192135387433205j)\n"
     ]
    }
   ],
   "source": [
    "#Write some code to test your function and confirm it works as expected.\n",
    "import random                                            #Imports random package to be used in function\n",
    "\n",
    "a = random.randint(-100,100)                             #Sets variable \"a\" as a random number from -100 to 100\n",
    "b = random.randint(-100,100)                             #Sets variable \"b\" as a random number from -100 to 100\n",
    "c = random.randint(-100,100)                             #Sets variable \"c\" as a random number from -100 to 100\n",
    "\n",
    "print(\"a=\",a, \",\", \"b=\",b, \",\", \"c=\",c)                  #Prints the a, b, and c values so that function can be checked\n",
    "\n",
    "find_roots(a, b, c)\n",
    "\n",
    "def find_rootsChecker(a, b, c):                          #Defines function \"find_rootsChecker\" and allows previously established variables as arguments\n",
    "    '''Takes in 3 variables, provides complex roots'''\n",
    "    root1 = (-(b)+((b**2)-4*(a)*(c))**(1/2))/(2*a)\n",
    "    root2 = (-(b)-((b**2)-4*(a)*(c))**(1/2))/(2*a)\n",
    "    if 4*a*c > b**2:                                  \n",
    "        print(\"The complex roots are:\",root1, \",\", root2)#If there are complex roots it states them to check if this part of the function operates correctly\n",
    "    else:\n",
    "        return\n",
    "find_rootsChecker(a, b, c)                               #Implements defined function so that the process can be carried out"
   ]
  }
 ],
 "metadata": {
  "kernelspec": {
   "display_name": "Python 3.8 (full)",
   "language": "python",
   "name": "python3-3.8-ufrc"
  },
  "language_info": {
   "codemirror_mode": {
    "name": "ipython",
    "version": 3
   },
   "file_extension": ".py",
   "mimetype": "text/x-python",
   "name": "python",
   "nbconvert_exporter": "python",
   "pygments_lexer": "ipython3",
   "version": "3.8.5"
  }
 },
 "nbformat": 4,
 "nbformat_minor": 4
}
